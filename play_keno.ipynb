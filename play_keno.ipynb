{
 "cells": [
  {
   "cell_type": "code",
   "execution_count": 2,
   "metadata": {},
   "outputs": [],
   "source": [
    "import pandas as pd\n",
    "import random"
   ]
  },
  {
   "cell_type": "markdown",
   "metadata": {},
   "source": [
    "We're going to simulate playing keno, both top/bottom, left/right, and ten digits."
   ]
  },
  {
   "cell_type": "markdown",
   "metadata": {},
   "source": [
    "First, I'm going to play ten thousand times, and determine what the average number of times a number is selected. It's also going to set the baseline for percentiles for all the other calculations."
   ]
  },
  {
   "cell_type": "code",
   "execution_count": 6,
   "metadata": {},
   "outputs": [],
   "source": [
    "one_million_game_file = open('./data/simulation/one_million_games.txt', 'w')\n",
    "for each_strap in list(range(1000000)):\n",
    "    temp_list = random.sample(list(range(1,81)), 20)\n",
    "    temp_list.sort()\n",
    "    one_million_game_file.write(str(temp_list) + '\\n')\n",
    "one_million_game_file.close()"
   ]
  },
  {
   "cell_type": "code",
   "execution_count": 7,
   "metadata": {},
   "outputs": [],
   "source": [
    "# Reading the data back in:\n",
    "one_million_games_file = open('./data/simulation/one_million_games.txt', 'r')\n",
    "one_million_games_list = [eval(item.strip()) for item in one_million_games_file]"
   ]
  },
  {
   "cell_type": "markdown",
   "metadata": {},
   "source": [
    "Getting the number of times an up/down/neither or a left/right/neither would happen:"
   ]
  },
  {
   "cell_type": "code",
   "execution_count": 15,
   "metadata": {},
   "outputs": [],
   "source": [
    "# Defining left and right:\n",
    "left = list(range(1,6)) + list(range(11,16)) + list(range(21,26)) \\\n",
    "       + list(range(31,36)) + list(range(41,46)) + list(range(51,56)) \\\n",
    "       + list(range(61,66)) + list(range(71,76))\n",
    "right = [item for item in list(range(1,81)) if item not in left]\n",
    "\n",
    "# Initating the number of wins:\n",
    "left_wins = 0\n",
    "right_wins = 0\n",
    "top_wins = 0\n",
    "bottom_wins = 0\n",
    "\n",
    "# Initating the earnings:\n",
    "left_earns = 0\n",
    "right_earns = 0\n",
    "top_earns = 0\n",
    "bottom_earns = 0\n",
    "\n",
    "# Function that evaluates winnings and earnings:\n",
    "def check_win_earn(input_list, win_val, earn_val):\n",
    "    if len(input_list) >= 16:\n",
    "        win_val += 1\n",
    "        earn_val += 4\n",
    "    elif len(input_list) >= 11:\n",
    "        win_val += 1\n",
    "        earn_val += 2\n",
    "    return win_val, earn_val\n",
    "\n",
    "# Going through each strap:\n",
    "for each_strap in one_million_games_list:\n",
    "    # Getting the temp lists:\n",
    "    over_eval = [item for item in each_strap if item > 40]\n",
    "    under_eval = [item for item in each_strap if item < 41]\n",
    "    left_eval = [item for item in each_strap if item in left]\n",
    "    right_eval = [item for item in each_strap if item in right]\n",
    "    \n",
    "    # Evaluating the temp lists:\n",
    "    top_wins, top_earns = check_win_earn(over_eval, top_wins, top_earns)\n",
    "    bottom_wins, bottom_earns = check_win_earn(under_eval, bottom_wins, bottom_earns)\n",
    "    left_wins, left_earns = check_win_earn(left_eval, left_wins, left_earns)\n",
    "    right_wins, right_earns = check_win_earn(right_eval, right_wins, right_earns)"
   ]
  },
  {
   "cell_type": "code",
   "execution_count": 16,
   "metadata": {},
   "outputs": [
    {
     "name": "stdout",
     "output_type": "stream",
     "text": [
      "Top\n",
      "398203\n",
      "800314\n",
      "\n",
      "\n",
      "Bottom\n",
      "398780\n",
      "801392\n",
      "\n",
      "\n",
      "Left\n",
      "398417\n",
      "800542\n",
      "\n",
      "\n",
      "Right\n",
      "398733\n",
      "801222\n"
     ]
    }
   ],
   "source": [
    "print('Top')\n",
    "print(top_wins)\n",
    "print(top_earns)\n",
    "print('\\n')\n",
    "\n",
    "print('Bottom')\n",
    "print(bottom_wins)\n",
    "print(bottom_earns)\n",
    "print('\\n')\n",
    "\n",
    "print('Left')\n",
    "print(left_wins)\n",
    "print(left_earns)\n",
    "print('\\n')\n",
    "\n",
    "print('Right')\n",
    "print(right_wins)\n",
    "print(right_earns)"
   ]
  },
  {
   "cell_type": "markdown",
   "metadata": {},
   "source": [
    "This is a stupid fucking game. You're going to lose 20% of your dough. Fer sure."
   ]
  },
  {
   "cell_type": "code",
   "execution_count": null,
   "metadata": {},
   "outputs": [],
   "source": []
  }
 ],
 "metadata": {
  "kernelspec": {
   "display_name": "Python 3",
   "language": "python",
   "name": "python3"
  },
  "language_info": {
   "codemirror_mode": {
    "name": "ipython",
    "version": 3
   },
   "file_extension": ".py",
   "mimetype": "text/x-python",
   "name": "python",
   "nbconvert_exporter": "python",
   "pygments_lexer": "ipython3",
   "version": "3.8.5"
  }
 },
 "nbformat": 4,
 "nbformat_minor": 4
}
