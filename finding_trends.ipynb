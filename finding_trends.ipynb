{
 "cells": [
  {
   "cell_type": "code",
   "execution_count": 2,
   "metadata": {},
   "outputs": [],
   "source": [
    "import pandas as pd\n",
    "import numpy as np\n",
    "from bokeh.io import export_png\n",
    "from bokeh.plotting import figure, output_notebook, show, output_file"
   ]
  },
  {
   "cell_type": "markdown",
   "metadata": {},
   "source": [
    "We're going to track two trends:\n",
    "1. The above/below trend\n",
    "2. Which numbers are getting selected above what you would expect by random"
   ]
  },
  {
   "cell_type": "markdown",
   "metadata": {},
   "source": [
    "## Above/Below trend:"
   ]
  },
  {
   "cell_type": "markdown",
   "metadata": {},
   "source": [
    "Getting whether it was above or below:"
   ]
  },
  {
   "cell_type": "code",
   "execution_count": 3,
   "metadata": {},
   "outputs": [],
   "source": [
    "# Functions:\n",
    "def above_below_40(input_list):\n",
    "    over_40 = [item for item in input_list if item > 40]\n",
    "    if len(over_40) >= 12:\n",
    "        return 'over'\n",
    "    elif len(over_40) <= 8:\n",
    "        return 'under'\n",
    "    else:\n",
    "        return 'neither'\n",
    "    \n",
    "def update_dict(input_dict, input_value):\n",
    "    all_options = list(input_dict.keys())\n",
    "    for each_value in input_value:\n",
    "        input_dict[each_value].append(1)\n",
    "    for each_value in all_options:\n",
    "        if each_value in input_value:\n",
    "            continue\n",
    "        input_dict[each_value].append(0)\n",
    "    return input_dict\n",
    "\n",
    "def calc_prob_dict(input_list):\n",
    "    cum_list = np.cumsum(input_list)\n",
    "    prob_list = []\n",
    "    for idx, each_item in enumerate(cum_list):\n",
    "        prob_list.append(float(each_item)/(idx + 1))\n",
    "    return prob_list"
   ]
  },
  {
   "cell_type": "code",
   "execution_count": 4,
   "metadata": {},
   "outputs": [],
   "source": [
    "communities = ['Omaha', 'Lincoln', 'Norfolk', 'Fremont']\n",
    "for each_community in communities:\n",
    "    \n",
    "    #### OVER/UNDER REPRESENTATION:\n",
    "    test_file = pd.read_excel('./data/input/%s.xlsx' % each_community.lower(), index_col=0)\n",
    "\n",
    "    tracking_progress = []\n",
    "    for idx, each_row in test_file.iterrows():\n",
    "        tracking_progress.append(above_below_40(list(each_row)))\n",
    "\n",
    "    # Calculating trends - onverting to ones and zeroes:\n",
    "    over_under_dict = {'over':[],\n",
    "                       'under':[],\n",
    "                       'neither':[]}\n",
    "    for each_val in tracking_progress:\n",
    "        over_under_dict = update_dict(over_under_dict, [each_val])\n",
    "\n",
    "    # Converting to probabilities:\n",
    "    prob_dict = {'over' : calc_prob_dict(over_under_dict['over']),\n",
    "                 'under' : calc_prob_dict(over_under_dict['under']),\n",
    "                 'neither' : calc_prob_dict(over_under_dict['neither'])}\n",
    "\n",
    "    # Plotting:\n",
    "    output_file('./data/output/%s_top_vs_bottom.html' % each_community.lower())\n",
    "    overunder_drunken_walk_fig = figure(toolbar_location=None, title='%s' % each_community)\n",
    "    overunder_drunken_walk_fig.line(x=list(range(len(prob_dict['over']))), y=prob_dict['over'], \n",
    "                          color='red', legend_label='Over', line_width=4)\n",
    "    overunder_drunken_walk_fig.line(x=list(range(len(prob_dict['under']))), y=prob_dict['under'], \n",
    "                          color='blue', legend_label='Under', line_width=4)\n",
    "    overunder_drunken_walk_fig.line(x=list(range(len(prob_dict['neither']))), y=prob_dict['neither'], \n",
    "                          color='black', legend_label='Neither', line_width=4)\n",
    "    show(overunder_drunken_walk_fig)\n",
    "    \n",
    "    \n",
    "    #### MOST REPRESENTED NUMBERS:\n",
    "    # Making the big number dictionary:\n",
    "    number_dict = {}\n",
    "    for each_number in list(range(1, 81)):\n",
    "        number_dict[each_number] = []\n",
    "\n",
    "    # Getting the use of each number\n",
    "    for idx, each_row in test_file.iterrows():\n",
    "        number_dict = update_dict(number_dict, list(each_row))\n",
    "\n",
    "    # converting to probabilities:\n",
    "    number_prob_dict = {}\n",
    "    for each_number in number_dict.keys():\n",
    "        number_prob_dict[each_number] = calc_prob_dict(number_dict[each_number])\n",
    "\n",
    "    # Plotting numbers:\n",
    "    output_file('./data/output/%s_top_numbers.html' % each_community.lower())\n",
    "    top_rep_numbers_fig = figure(toolbar_location=None)\n",
    "    for each_value in number_prob_dict.keys():\n",
    "        top_rep_numbers_fig.line(x=list(range(len(number_prob_dict[each_value]))), y=number_prob_dict[each_value], \n",
    "                              color='black', line_width=2)\n",
    "    show(top_rep_numbers_fig)\n",
    "\n",
    "    # Getting the mean of the last five values:\n",
    "    final_number_prob_dict = {}\n",
    "    for each_value in number_prob_dict.keys():\n",
    "        final_number_prob_dict[each_value] = np.mean(number_prob_dict[each_value][-5:])\n",
    "    final_number_prob_dict_sorted = {k: v for k, v in sorted(final_number_prob_dict.items(), \n",
    "                                                             key=lambda item: item[1], reverse=True)}\n",
    "\n",
    "    # Writing the top numbers to a file:\n",
    "    top_number_file = open('./data/output/%s_top_numbers.txt' % each_community, 'w')\n",
    "    for idx, each_val in enumerate(final_number_prob_dict_sorted.keys()):\n",
    "        if idx == 0:\n",
    "            \n",
    "        if idx == 20:\n",
    "            break\n",
    "        top_number_file.write(str(each_val) + '\\t' + str(final_number_prob_dict_sorted[each_val]) + '\\n')\n",
    "    top_number_file.close()"
   ]
  },
  {
   "cell_type": "code",
   "execution_count": null,
   "metadata": {},
   "outputs": [],
   "source": []
  }
 ],
 "metadata": {
  "kernelspec": {
   "display_name": "Python 3",
   "language": "python",
   "name": "python3"
  },
  "language_info": {
   "codemirror_mode": {
    "name": "ipython",
    "version": 3
   },
   "file_extension": ".py",
   "mimetype": "text/x-python",
   "name": "python",
   "nbconvert_exporter": "python",
   "pygments_lexer": "ipython3",
   "version": "3.8.5"
  }
 },
 "nbformat": 4,
 "nbformat_minor": 4
}
