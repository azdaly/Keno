{
 "cells": [
  {
   "cell_type": "code",
   "execution_count": 1,
   "metadata": {},
   "outputs": [],
   "source": [
    "import requests\n",
    "import pandas as pd\n",
    "from lxml import html\n",
    "from datetime import datetime"
   ]
  },
  {
   "cell_type": "code",
   "execution_count": 2,
   "metadata": {},
   "outputs": [],
   "source": [
    "communities = ['Omaha', 'Lincoln', 'Norfolk', 'Fremont']\n",
    "html_string = 'http://results.bigredkeno.com/?community=INPUT_COMM'"
   ]
  },
  {
   "cell_type": "code",
   "execution_count": 3,
   "metadata": {},
   "outputs": [],
   "source": [
    "# Function that extracts numbers from a list, 20 at a time:\n",
    "def extract_values(input_list):\n",
    "    copied_list = input_list.copy()\n",
    "    final_df = pd.DataFrame()\n",
    "    while len(copied_list) > 0:\n",
    "        temp_df = pd.DataFrame(copied_list[:20])\n",
    "        temp_df = temp_df.T\n",
    "        if final_df.shape[0] == 0:\n",
    "            final_df = temp_df.copy()\n",
    "        else:\n",
    "            final_df = final_df.append(temp_df)\n",
    "        copied_list = copied_list[20:]\n",
    "    return final_df"
   ]
  },
  {
   "cell_type": "code",
   "execution_count": 4,
   "metadata": {},
   "outputs": [],
   "source": [
    "for each_community in communities:\n",
    "    temp_string = html_string.replace('INPUT_COMM', each_community)\n",
    "    current_request = requests.get(temp_string)\n",
    "    tree = html.fromstring(current_request.content)\n",
    "    # Getting the numbers:\n",
    "    raw_number_lists = tree.xpath('//td')\n",
    "    # Extracting the numbers:\n",
    "    extracted_numbers = [int(item.text) for item in raw_number_lists if item.text != None and item.text.strip() != '']\n",
    "    # Converting the extracted numbers to a table:\n",
    "    table_of_data = extract_values(extracted_numbers)\n",
    "    # Opening the previous data file:\n",
    "    previous_data = pd.read_excel('./data/')\n",
    "    table_of_data.to_excel('./data/%s.xlsx' % each_community.lower())"
   ]
  }
 ],
 "metadata": {
  "kernelspec": {
   "display_name": "Python 3",
   "language": "python",
   "name": "python3"
  },
  "language_info": {
   "codemirror_mode": {
    "name": "ipython",
    "version": 3
   },
   "file_extension": ".py",
   "mimetype": "text/x-python",
   "name": "python",
   "nbconvert_exporter": "python",
   "pygments_lexer": "ipython3",
   "version": "3.8.5"
  }
 },
 "nbformat": 4,
 "nbformat_minor": 4
}
